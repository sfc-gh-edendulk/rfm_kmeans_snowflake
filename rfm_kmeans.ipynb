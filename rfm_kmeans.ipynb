{
 "cells": [
  {
   "cell_type": "markdown",
   "id": "a43ad0f3-19d8-481d-a537-180ab75cc0d5",
   "metadata": {
    "collapsed": false,
    "name": "cell20"
   },
   "source": [
    "Install the following packages\n",
    "\n",
    "- matplotlib\n",
    "- numpy\n",
    "- pandas\n",
    "- seaborn\n",
    "- snowflake\n",
    "- python\n",
    "- streamlit\n",
    "- plotly"
   ]
  },
  {
   "cell_type": "code",
   "execution_count": null,
   "id": "3775908f-ca36-4846-8f38-5adca39217f2",
   "metadata": {
    "collapsed": false,
    "language": "python",
    "name": "install_connect"
   },
   "outputs": [],
   "source": [
    "from snowflake.snowpark.session import Session\n",
    "from snowflake.snowpark import DataFrame, Window\n",
    "from snowflake.snowpark.types import *\n",
    "from snowflake.snowpark import functions as F\n",
    "from snowflake.snowpark.functions import col, sql_expr, to_timestamp\n",
    "import pandas as pd\n",
    "\n",
    "# Snowflake connection info is saved in config.py\n",
    "#from config import snowflake_conn_prop\n",
    "\n",
    "\n",
    "# We can also use Snowpark for our analyses!\n",
    "from snowflake.snowpark.context import get_active_session\n",
    "session = get_active_session()\n",
    "print(session.sql('select current_warehouse(), current_database(), current_schema()').collect())"
   ]
  },
  {
   "cell_type": "markdown",
   "id": "5c5d9e2f-ca7a-4675-b7cb-4e40dd975a78",
   "metadata": {
    "collapsed": false,
    "name": "sf_notebook_option"
   },
   "source": [
    "________"
   ]
  },
  {
   "cell_type": "code",
   "execution_count": null,
   "id": "48d1ebe5-539a-433f-8646-26d25529b7ae",
   "metadata": {
    "collapsed": false,
    "language": "sql",
    "name": "DONTRUN"
   },
   "outputs": [],
   "source": [
    "//CREATE\n",
    "//OR REPLACE TABLE ONLINE_RETAIL.ONLINE_RETAIL.online_retail_new AS\n",
    "//SELECT\n",
    "  //online_retail.customerid, TO_TIMESTAMP (REGEXP_REPLACE (online_retail.invoicedate,'(\\\\d/)([0-9])(/\\\\d{4})','\\\\10\\\\2\\\\3'),'MM/DD/YYYY HH24:MI') AS invoicedate,\n",
    "  //online_retail.invoiceno,\n",
    "  //online_retail.stockcode,\n",
    "  //online_retail.description,\n",
    "  //online_retail.quantity,\n",
    "  //online_retail.unitprice,\n",
    "  //online_retail.country\n",
    "//FROM\n",
    "  //ONLINE_RETAIL.ONLINE_RETAIL.online_retail;\n",
    "\n",
    "//DROP TABLE ONLINE_RETAIL.ONLINE_RETAIL.online_retail;\n",
    "//ALTER TABLE\n",
    "  //ONLINE_RETAIL.ONLINE_RETAIL.online_retail_new RENAME TO online_retail;"
   ]
  },
  {
   "cell_type": "code",
   "execution_count": null,
   "id": "d92426fa-cdf9-4078-b433-0960b23be388",
   "metadata": {
    "collapsed": false,
    "language": "python",
    "name": "df_definition"
   },
   "outputs": [],
   "source": [
    "df = session.table('ONLINE_RETAIL')\n",
    "df = df.dropna()\n",
    "df = df.filter(\"QUANTITY > 0 and UNITPRICE > 0\")\n",
    "df = df.filter(\"COUNTRY = 'United Kingdom'\")\n",
    "df.show()"
   ]
  },
  {
   "cell_type": "code",
   "execution_count": null,
   "id": "3de55708-9dd6-4e09-ac7f-7129e51b7dd2",
   "metadata": {
    "language": "python",
    "name": "cell21"
   },
   "outputs": [],
   "source": [
    "# create a new column to store the max invoicedate, use as the reference date to calculate recency\n",
    "df = df.join(df.select(F.max(\"INVOICEDATE\").alias(\"NOW\")))\n",
    "\n",
    "#RECENCY, FREQUENCY, MONETARY\n",
    "df_tf = df.group_by(\"CUSTOMERID\")\\\n",
    "          .agg(F.max(\"INVOICEDATE\"),\\\n",
    "               F.max(\"NOW\"),\\\n",
    "               F.sum(col(\"QUANTITY\")*col(\"UNITPRICE\")).alias(\"Monetary\"),\\\n",
    "               F.count(\"INVOICENO\").alias(\"Frequency\")).select(\"CUSTOMERID\",\"Frequency\",\"Monetary\",\\\n",
    "                                    F.datediff(\"days\",col(\"MAX(INVOICEDATE)\"),col(\"MAX(NOW)\")).alias(\"RECENCY\"))\n",
    "\n",
    "df_tf.show()"
   ]
  },
  {
   "cell_type": "code",
   "execution_count": null,
   "id": "df944ffc-18c8-460d-80b0-e886f02528bd",
   "metadata": {
    "language": "python",
    "name": "cell18"
   },
   "outputs": [],
   "source": [
    "#K-means can be quite sensitive to outliers, so let’s remove them through the percentile method — any data above the 99 percentile are discarded.\n",
    "freq_99pc = df_tf.select(F.percentile_cont(0.99).within_group(\"FREQUENCY\")).collect()\n",
    "rec_99pc = df_tf.select(F.percentile_cont(0.99).within_group(\"RECENCY\")).collect()\n",
    "mon_99pc = df_tf.select(F.percentile_cont(0.99).within_group(\"MONETARY\")).collect()\n",
    "\n",
    "df_tf = df_tf.filter((col(\"FREQUENCY\") < freq_99pc[0][0]) & \\\n",
    "                     (col(\"RECENCY\") < rec_99pc[0][0]) & \\\n",
    "                     (col(\"MONETARY\") < mon_99pc[0][0]))"
   ]
  },
  {
   "cell_type": "code",
   "execution_count": null,
   "id": "92ee514a-b9bd-4f76-bd99-288dcce9cb0b",
   "metadata": {
    "language": "python",
    "name": "visualise_features"
   },
   "outputs": [],
   "source": [
    "#We can visualize the distribution of the features\n",
    "\n",
    "import seaborn as sns\n",
    "import matplotlib.pyplot as plt\n",
    "import numpy as np\n",
    "import os \n",
    "os.environ['MPLCONFIGDIR'] = os.getcwd() + \"/configs/\"\n",
    "\n",
    "fig, ax = plt.subplots(1, 3, figsize=(16, 8))\n",
    "\n",
    "df_pd = df_tf.select(\"CUSTOMERID\", \"FREQUENCY\", \"RECENCY\", \"MONETARY\").toPandas()\n",
    "\n",
    "# Recency distribution plot\n",
    "sns.histplot(df_pd['RECENCY'], kde=True, ax=ax[0])\n",
    "\n",
    "# Frequency distribution plot\n",
    "sns.histplot(df_pd['FREQUENCY'], kde=True, ax=ax[1])\n",
    "\n",
    "# Monetary distribution plot\n",
    "sns.histplot(df_pd['MONETARY'], kde=True, ax=ax[2])"
   ]
  },
  {
   "cell_type": "code",
   "execution_count": null,
   "id": "b4593288-e0d4-47ca-ab52-23f09cce131b",
   "metadata": {
    "language": "python",
    "name": "stored_procedure_kmeans"
   },
   "outputs": [],
   "source": [
    "# Implementation code for the stored procedure\n",
    "def kmeans_cluster (session: Session, max_iter: int, iterate: int) -> str:\n",
    "        \n",
    "    import pandas as pd\n",
    "    from sklearn.preprocessing import StandardScaler\n",
    "    from sklearn.cluster import KMeans\n",
    "\n",
    "\n",
    "    scaler = StandardScaler()\n",
    "    scaler.fit(df_pd[[\"FREQUENCY\", \"RECENCY\", \"MONETARY\"]])\n",
    "    print(scaler.mean_)\n",
    "    df_train = scaler.transform(df_pd[[\"FREQUENCY\", \"RECENCY\", \"MONETARY\"]])\n",
    "    print (df_train)\n",
    "    inertia = []\n",
    "    results = []\n",
    "    \n",
    "\n",
    "    if iterate==1:\n",
    "        K = range(2,max_iter)\n",
    "        for k in K:\n",
    "            model = KMeans(n_clusters=k, init='k-means++', random_state=42).fit(df_train)\n",
    "            inertia.append(model.inertia_)\n",
    "            results = inertia\n",
    "    else:\n",
    "        df_pd['Cluster'] = KMeans(n_clusters=max_iter, init='k-means++', random_state=42).fit(df_train).labels_\n",
    "        df_output = session.createDataFrame(df_pd)\n",
    "        df_output.write.saveAsTable(\"RFM_Clusters\",mode=\"overwrite\")\n",
    "        results = \"MODEL CREATED\"\n",
    "        \n",
    "    return results"
   ]
  },
  {
   "cell_type": "code",
   "execution_count": null,
   "id": "f046b671-6b7c-4e82-8753-a103e16495f5",
   "metadata": {
    "language": "python",
    "name": "register_sproc"
   },
   "outputs": [],
   "source": [
    "# we need to register the stored procedure with the necessary Python libraries added\n",
    "\n",
    "from snowflake.snowpark.functions import sproc\n",
    "\n",
    "# This adds the necessary packages to our Python environment in Snowflake\n",
    "# session.clear_packages()\n",
    "session.add_packages(\"snowflake-snowpark-python\",\"pandas\",\"scikit-learn\")\n",
    "\n",
    "# We need a stage to host the stored proc\n",
    "_ = session.sql('CREATE STAGE IF NOT EXISTS MODELS').collect()\n",
    "\n",
    "# Register the stored proc\n",
    "session.sproc.register(kmeans_cluster, name=\"kmeans_cluster\", is_permanent=True, stage_location=\"@models\", replace=True)"
   ]
  },
  {
   "cell_type": "code",
   "execution_count": null,
   "id": "e9008c84-5b00-40fd-8a6a-e4db43b2b2c5",
   "metadata": {
    "language": "python",
    "name": "iterate_k"
   },
   "outputs": [],
   "source": [
    "#Calling this procedure will execute the Sci-Kit Learn K-Means clustering algorithm iterating \n",
    "#over k = 2 to k = 12 on the dataset and return the inertia as an array.\n",
    "\n",
    "max_iter = 12\n",
    "results = session.call(\"kmeans_cluster\", max_iter, 1)\n",
    "inertia = np.array(results[1:-1].split(',')).astype(float)"
   ]
  },
  {
   "cell_type": "code",
   "execution_count": null,
   "id": "ead124c2-2c5f-473d-ae80-cc870547507c",
   "metadata": {
    "language": "python",
    "name": "elbow_chart"
   },
   "outputs": [],
   "source": [
    "K = range(2,max_iter)\n",
    "plt.figure(figsize=(16,8))\n",
    "plt.plot(K, inertia, 'bx-')\n",
    "plt.xlabel('k')\n",
    "plt.ylabel('Inertia')\n",
    "plt.title('Elbow Chart')\n",
    "plt.show()"
   ]
  },
  {
   "cell_type": "code",
   "execution_count": null,
   "id": "50c7aec7-9419-49f6-98e7-2e89a0587fd0",
   "metadata": {
    "language": "python",
    "name": "create4clusters"
   },
   "outputs": [],
   "source": [
    "#We can see that the optimal value is k = 4\n",
    "\n",
    "max_iter = 4\n",
    "results = session.call(\"kmeans_cluster\", max_iter, 0)"
   ]
  },
  {
   "cell_type": "code",
   "execution_count": null,
   "id": "988ca388-00a7-4896-86ec-7ef672e3baf4",
   "metadata": {
    "collapsed": false,
    "language": "python",
    "name": "streamlit"
   },
   "outputs": [],
   "source": [
    "import streamlit as st\n",
    "import snowflake.connector\n",
    "from snowflake.snowpark.session import Session\n",
    "import pandas as pd\n",
    "import numpy as np\n",
    "import plotly.express as px\n",
    "\n",
    "# Initialize connection.\n",
    "# Refer to https://docs.streamlit.io/knowledge-base/tutorials/databases/snowflake for format of secrets\n",
    "\n",
    "# Perform query.\n",
    "st.header('Customer Segmentation example with Snowpark using K-Means')\n",
    "\n",
    "st.write('Sample cluster data that shows the recency, frequency and monetary attributes of each customer')\n",
    "df = session.table(\"RFM_Clusters\")\n",
    "df_pd = df.to_pandas()\n",
    "st.dataframe(df_pd)\n",
    "df_pd[\"Cluster\"] = df_pd[\"Cluster\"].astype(str)\n",
    "\n",
    "st.subheader('Frequency vs Recency')\n",
    "\n",
    "fig = px.scatter(\n",
    "    df_pd,\n",
    "    x=\"FREQUENCY\",\n",
    "    y=\"RECENCY\",\n",
    "    color=\"Cluster\",\n",
    "    opacity=0.5,\n",
    "    render_mode='svg'\n",
    ")\n",
    "\n",
    "st.plotly_chart(fig, theme=\"streamlit\", use_container_width=True)\n",
    "\n",
    "st.subheader('Frequency vs Monetary')\n",
    "\n",
    "fig = px.scatter(\n",
    "    df_pd,\n",
    "    x=\"FREQUENCY\",\n",
    "    y=\"MONETARY\",\n",
    "    color=\"Cluster\",\n",
    "    opacity=0.5,\n",
    "    render_mode='svg'\n",
    ")\n",
    "\n",
    "st.plotly_chart(fig, theme=\"streamlit\", use_container_width=True)\n",
    "\n",
    "st.subheader('Recency vs Monetary')\n",
    "\n",
    "fig = px.scatter(\n",
    "    df_pd,\n",
    "    x=\"RECENCY\",\n",
    "    y=\"MONETARY\",\n",
    "    color=\"Cluster\",\n",
    "    opacity=0.5,\n",
    "    render_mode='svg'\n",
    ")\n",
    "\n",
    "st.plotly_chart(fig, theme=\"streamlit\", use_container_width=True)\n",
    "\n",
    "st.markdown(\"**:red[Cluster 3]** are your Loyalists. They generally spend more money and more frequently.\")\n",
    "st.markdown(\"**:blue[Cluster 1]** are your Growing customers. They spend less money and less frequently, but they spent in the last 5 months.\")\n",
    "st.markdown(\"**:orange[Cluster 2]** are your Churning customers. They spend less money and less frequently, and they spent beyond the last 5 months.\")\n",
    "st.markdown(\"**Cluster** **0** sit somewhere in between.\")"
   ]
  }
 ],
 "metadata": {
  "kernelspec": {
   "display_name": "Streamlit Notebook",
   "name": "streamlit"
  }
 },
 "nbformat": 4,
 "nbformat_minor": 5
}
